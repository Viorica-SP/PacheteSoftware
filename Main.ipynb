{
 "cells": [
  {
   "cell_type": "code",
   "execution_count": 30,
   "id": "f94f781c-5585-4afe-bbb6-78e0f903395d",
   "metadata": {},
   "outputs": [
    {
     "ename": "ModuleNotFoundError",
     "evalue": "No module named 'matplotlib'",
     "output_type": "error",
     "traceback": [
      "\u001b[0;31m---------------------------------------------------------------------------\u001b[0m",
      "\u001b[0;31mModuleNotFoundError\u001b[0m                       Traceback (most recent call last)",
      "\u001b[0;32m/tmp/ipykernel_87/873804942.py\u001b[0m in \u001b[0;36m<module>\u001b[0;34m\u001b[0m\n\u001b[1;32m      1\u001b[0m \u001b[0;32mimport\u001b[0m \u001b[0mpandas\u001b[0m \u001b[0;32mas\u001b[0m \u001b[0mpd\u001b[0m\u001b[0;34m\u001b[0m\u001b[0;34m\u001b[0m\u001b[0m\n\u001b[1;32m      2\u001b[0m \u001b[0;32mimport\u001b[0m \u001b[0mdateutil\u001b[0m\u001b[0;34m\u001b[0m\u001b[0;34m\u001b[0m\u001b[0m\n\u001b[0;32m----> 3\u001b[0;31m \u001b[0;32mimport\u001b[0m \u001b[0mmatplotlib\u001b[0m\u001b[0;34m\u001b[0m\u001b[0;34m\u001b[0m\u001b[0m\n\u001b[0m",
      "\u001b[0;31mModuleNotFoundError\u001b[0m: No module named 'matplotlib'"
     ]
    }
   ],
   "source": [
    "import pandas as pd\n",
    "import dateutil\n",
    "import matplotlib"
   ]
  },
  {
   "cell_type": "code",
   "execution_count": 2,
   "id": "e6dec074-17f9-4412-a6c9-87d1967d6f7c",
   "metadata": {},
   "outputs": [],
   "source": [
    "date_comenzi = pd.read_csv('ComenziCSV.csv')\n",
    "date_clienti = pd.read_csv('ClientiCSV.csv')"
   ]
  },
  {
   "cell_type": "code",
   "execution_count": 3,
   "id": "ac63dc57-f821-4adb-bbd4-636afcdf3e69",
   "metadata": {},
   "outputs": [],
   "source": [
    "def creare_lista_categorii(date_comenzi):\n",
    "    array_categorii = date_comenzi['Categorie'].unique()\n",
    "    lista_categorii = []\n",
    "    for categorie in array_categorii:\n",
    "        if(categorie == categorie):\n",
    "            lista_categorii.append(categorie)\n",
    "    return lista_categorii"
   ]
  },
  {
   "cell_type": "code",
   "execution_count": 4,
   "id": "ad46bf00-9190-4446-bed4-9b856c692863",
   "metadata": {},
   "outputs": [],
   "source": [
    "def creare_lista_produse(date_comenzi):\n",
    "    array_produse = date_comenzi['Produs'].unique()\n",
    "    lista_produse = []\n",
    "    for produs in array_produse:\n",
    "        if(produs == produs):\n",
    "            lista_produse.append(produs)\n",
    "    return lista_produse"
   ]
  },
  {
   "cell_type": "code",
   "execution_count": 5,
   "id": "d57e91b9-4510-494a-aed5-c87008c246fb",
   "metadata": {},
   "outputs": [],
   "source": [
    "lista_categorii = creare_lista_categorii(date_comenzi)\n",
    "lista_produse = creare_lista_produse(date_comenzi)"
   ]
  },
  {
   "cell_type": "code",
   "execution_count": 6,
   "id": "df6fcdae-15ed-4ef1-83c9-26f8e31be8c9",
   "metadata": {},
   "outputs": [
    {
     "name": "stdout",
     "output_type": "stream",
     "text": [
      "['Bars', 'Crackers', 'Cookies', 'Snacks']\n",
      "4\n"
     ]
    }
   ],
   "source": [
    "print(lista_categorii)\n",
    "print(len(lista_categorii))"
   ]
  },
  {
   "cell_type": "code",
   "execution_count": 7,
   "id": "c16781ba-778c-4b8b-a437-3f02fc136fad",
   "metadata": {},
   "outputs": [
    {
     "name": "stdout",
     "output_type": "stream",
     "text": [
      "['Carrot', 'Whole Wheat', 'Chocolate Chip', 'Arrowroot', 'Potato Chips', 'Oatmeal Raisin', 'Bran', 'Pretzels', 'Banana']\n",
      "9\n"
     ]
    }
   ],
   "source": [
    "print(lista_produse)\n",
    "print(len(lista_produse))"
   ]
  },
  {
   "cell_type": "code",
   "execution_count": 8,
   "id": "b9eb7c60-9b47-4bf5-9ad0-fa02286799fd",
   "metadata": {},
   "outputs": [],
   "source": [
    "dictionar_produse_categorii = {\"Carrot\":\"Bars\", \"Whole Wheat\":\"Crackers\", \"Chocolate Chip\":\"Cookies\", \"Arrowroot\":\"Cookies\",\n",
    "                               \"Potato Chips\":\"Snacks\",  \"Oatmeat Raisin\":\"Cookies\", \"Bran\":\"Bars\", \"Pretzels\":\"Snacks\", \n",
    "                               \"Banana\":\"Bars\"}"
   ]
  },
  {
   "cell_type": "code",
   "execution_count": 9,
   "id": "5ffd3ba4-1c36-4ac1-8373-cb42934cefd6",
   "metadata": {},
   "outputs": [
    {
     "name": "stdout",
     "output_type": "stream",
     "text": [
      "{'Carrot': 'Bars', 'Whole Wheat': 'Crackers', 'Chocolate Chip': 'Cookies', 'Arrowroot': 'Cookies', 'Potato Chips': 'Snacks', 'Oatmeat Raisin': 'Cookies', 'Bran': 'Bars', 'Pretzels': 'Snacks', 'Banana': 'Bars'}\n",
      "\n",
      "Categoria produsului Banana este: Bars\n"
     ]
    }
   ],
   "source": [
    "print(dictionar_produse_categorii)\n",
    "print(\"\\nCategoria produsului Banana este: \" + dictionar_produse_categorii['Banana'])"
   ]
  },
  {
   "cell_type": "code",
   "execution_count": 10,
   "id": "de0ee72f-71d9-41ee-aa4d-b718d8b63f5b",
   "metadata": {},
   "outputs": [
    {
     "data": {
      "text/plain": [
       "2"
      ]
     },
     "execution_count": 10,
     "metadata": {},
     "output_type": "execute_result"
    }
   ],
   "source": [
    "tuplu_categorii = tuple(lista_categorii)\n",
    "tuplu_categorii.index('Cookies')"
   ]
  },
  {
   "cell_type": "code",
   "execution_count": 11,
   "id": "0e377e28-995c-4a06-a1d7-50c6aa54fbea",
   "metadata": {},
   "outputs": [
    {
     "name": "stdout",
     "output_type": "stream",
     "text": [
      "{'Whole Wheat', 'Oatmeal Raisin', 'Pretzels', 'Chocolate Chip', 'Arrowroot', 'Bran', 'Carrot', 'Potato Chips', 'Banana'}\n",
      "\n",
      "Setul de date dupa eliminarea produsului Pretzels:\n",
      "{'Whole Wheat', 'Oatmeal Raisin', 'Chocolate Chip', 'Arrowroot', 'Bran', 'Carrot', 'Potato Chips', 'Banana'}\n"
     ]
    }
   ],
   "source": [
    "set_produse = set(lista_produse)\n",
    "print(set_produse)\n",
    "set_produse.discard('Pretzels')\n",
    "print(\"\\nSetul de date dupa eliminarea produsului Pretzels:\")\n",
    "print(set_produse)"
   ]
  },
  {
   "cell_type": "code",
   "execution_count": 12,
   "id": "1d75e173-d61d-4974-a9b8-51c4b234b6b8",
   "metadata": {},
   "outputs": [
    {
     "name": "stdout",
     "output_type": "stream",
     "text": [
      "Printez randurile 80 - 100, si primele 5 coloane\n",
      "    Id_comanda Data_comenzii         Oras Categorie          Produs\n",
      "80          81     8/29/2020     New York      Bars            Bran\n",
      "81          82      9/1/2020     New York   Cookies  Oatmeal Raisin\n",
      "82          83      9/4/2020    San Diego      Bars          Carrot\n",
      "83          84      9/7/2020       Boston   Cookies       Arrowroot\n",
      "84          85     9/10/2020       Boston      Bars          Carrot\n",
      "85          86     9/13/2020       Boston    Snacks        Pretzels\n",
      "86          87     9/16/2020  Los Angeles      Bars          Carrot\n",
      "87          88     9/19/2020     New York   Cookies       Arrowroot\n",
      "88          89     9/22/2020     New York   Cookies  Chocolate Chip\n",
      "89          90     9/25/2020    San Diego      Bars            Bran\n",
      "90          91     9/28/2020       Boston   Cookies       Arrowroot\n",
      "91          92     10/1/2020       Boston      Bars          Carrot\n",
      "92          93     10/4/2020       Boston  Crackers     Whole Wheat\n",
      "93          94     10/7/2020  Los Angeles      Bars          Carrot\n",
      "94          95    10/10/2020  Los Angeles    Snacks    Potato Chips\n",
      "95          96    10/13/2020     New York   Cookies       Arrowroot\n",
      "96          97    10/16/2020     New York      Bars          Carrot\n",
      "97          98    10/19/2020     New York  Crackers     Whole Wheat\n",
      "98          99    10/22/2020    San Diego      Bars          Carrot\n",
      "99         100    10/25/2020       Boston   Cookies       Arrowroot\n"
     ]
    }
   ],
   "source": [
    "print(\"Printez randurile 80 - 100, si primele 5 coloane\")\n",
    "print(date_comenzi.iloc[80:100, 0:5])"
   ]
  },
  {
   "cell_type": "code",
   "execution_count": 13,
   "id": "3d27b487-59e0-423a-95e0-7b7958e6451e",
   "metadata": {},
   "outputs": [
    {
     "name": "stdout",
     "output_type": "stream",
     "text": [
      "   Id_comanda          Produs  Id_client\n",
      "2           3  Chocolate Chip          3\n",
      "4           5       Arrowroot          5\n",
      "6           7     Whole Wheat          7\n",
      "8           9          Carrot          9\n"
     ]
    }
   ],
   "source": [
    "print(date_comenzi.loc[[2,4,6,8],['Id_comanda', 'Produs', 'Id_client']])"
   ]
  },
  {
   "cell_type": "code",
   "execution_count": 14,
   "id": "930bfb37-2410-446b-af2f-ea6b895b8e95",
   "metadata": {},
   "outputs": [
    {
     "name": "stdout",
     "output_type": "stream",
     "text": [
      "Analizez existenta valorilor lipsa\n",
      "\n",
      "<class 'pandas.core.frame.DataFrame'>\n",
      "RangeIndex: 205 entries, 0 to 204\n",
      "Data columns (total 8 columns):\n",
      " #   Column         Non-Null Count  Dtype  \n",
      "---  ------         --------------  -----  \n",
      " 0   Id_comanda     205 non-null    int64  \n",
      " 1   Data_comenzii  203 non-null    object \n",
      " 2   Oras           205 non-null    object \n",
      " 3   Categorie      204 non-null    object \n",
      " 4   Produs         205 non-null    object \n",
      " 5   Cantitate      205 non-null    int64  \n",
      " 6   Pret_unitar    205 non-null    float64\n",
      " 7   Id_client      205 non-null    int64  \n",
      "dtypes: float64(1), int64(3), object(4)\n",
      "memory usage: 12.9+ KB\n"
     ]
    }
   ],
   "source": [
    "print(\"Analizez existenta valorilor lipsa\\n\")\n",
    "date_comenzi.info()"
   ]
  },
  {
   "cell_type": "code",
   "execution_count": 15,
   "id": "913fc3c6-d7ec-418b-8da3-6fde043c1ff9",
   "metadata": {},
   "outputs": [
    {
     "name": "stdout",
     "output_type": "stream",
     "text": [
      "    Id_comanda Data_comenzii      Oras Categorie  Produs  Cantitate  \\\n",
      "32          33      4/7/2020  New York       NaN  Carrot         91   \n",
      "\n",
      "    Pret_unitar  Id_client  \n",
      "32         1.77          3  \n"
     ]
    }
   ],
   "source": [
    "print(date_comenzi[date_comenzi['Categorie'].isna()])"
   ]
  },
  {
   "cell_type": "code",
   "execution_count": 16,
   "id": "a23364ad-efc6-4b6a-aefc-1e8620fc606c",
   "metadata": {},
   "outputs": [
    {
     "name": "stdout",
     "output_type": "stream",
     "text": [
      "    Id_comanda Data_comenzii         Oras Categorie          Produs  \\\n",
      "20          21           NaN     New York   Cookies  Chocolate Chip   \n",
      "31          32           NaN  Los Angeles    Snacks    Potato Chips   \n",
      "\n",
      "    Cantitate  Pret_unitar  Id_client  \n",
      "20         85         1.87          1  \n",
      "31         68         1.68          2  \n"
     ]
    }
   ],
   "source": [
    "print(date_comenzi[date_comenzi['Data_comenzii'].isna()])"
   ]
  },
  {
   "cell_type": "code",
   "execution_count": 17,
   "id": "152375e6-5015-4d4e-ba98-a6d5f52fb280",
   "metadata": {},
   "outputs": [
    {
     "data": {
      "text/plain": [
       "Id_comanda             33\n",
       "Data_comenzii    4/7/2020\n",
       "Oras             New York\n",
       "Categorie             NaN\n",
       "Produs             Carrot\n",
       "Name: 32, dtype: object"
      ]
     },
     "execution_count": 17,
     "metadata": {},
     "output_type": "execute_result"
    }
   ],
   "source": [
    "date_comenzi.iloc[32 ,0:5]"
   ]
  },
  {
   "cell_type": "code",
   "execution_count": 18,
   "id": "79e99af7-3d34-4391-9479-ae4aeac3168c",
   "metadata": {},
   "outputs": [
    {
     "data": {
      "text/plain": [
       "Id_comanda             33\n",
       "Data_comenzii    4/7/2020\n",
       "Oras             New York\n",
       "Categorie            Bars\n",
       "Produs             Carrot\n",
       "Name: 32, dtype: object"
      ]
     },
     "execution_count": 18,
     "metadata": {},
     "output_type": "execute_result"
    }
   ],
   "source": [
    "#Tratarea valorilor lipsa prin completarea categoriei folosind dictionarul\n",
    "date_comenzi['Categorie'] = date_comenzi['Categorie'].fillna(dictionar_produse_categorii['Carrot'])\n",
    "date_comenzi.iloc[32 ,0:5]"
   ]
  },
  {
   "cell_type": "code",
   "execution_count": 19,
   "id": "711d1d2a-8f97-4a0e-a286-c47eb93ecbcb",
   "metadata": {},
   "outputs": [
    {
     "name": "stdout",
     "output_type": "stream",
     "text": [
      "<class 'pandas.core.frame.DataFrame'>\n",
      "Int64Index: 203 entries, 0 to 204\n",
      "Data columns (total 8 columns):\n",
      " #   Column         Non-Null Count  Dtype  \n",
      "---  ------         --------------  -----  \n",
      " 0   Id_comanda     203 non-null    int64  \n",
      " 1   Data_comenzii  203 non-null    object \n",
      " 2   Oras           203 non-null    object \n",
      " 3   Categorie      203 non-null    object \n",
      " 4   Produs         203 non-null    object \n",
      " 5   Cantitate      203 non-null    int64  \n",
      " 6   Pret_unitar    203 non-null    float64\n",
      " 7   Id_client      203 non-null    int64  \n",
      "dtypes: float64(1), int64(3), object(4)\n",
      "memory usage: 14.3+ KB\n"
     ]
    }
   ],
   "source": [
    "#Stergere randuri cu elemente nule\n",
    "date_comenzi = date_comenzi.dropna()\n",
    "date_comenzi.info()"
   ]
  },
  {
   "cell_type": "code",
   "execution_count": 20,
   "id": "927ede69-02fb-4d26-a5ca-6adfb05de7ca",
   "metadata": {},
   "outputs": [
    {
     "name": "stdout",
     "output_type": "stream",
     "text": [
      "<class 'pandas.core.frame.DataFrame'>\n",
      "RangeIndex: 10 entries, 0 to 9\n",
      "Data columns (total 6 columns):\n",
      " #   Column       Non-Null Count  Dtype \n",
      "---  ------       --------------  ----- \n",
      " 0   Id_client    10 non-null     int64 \n",
      " 1   Nume         10 non-null     object\n",
      " 2   Prenume      10 non-null     object\n",
      " 3   Gen          10 non-null     object\n",
      " 4   Oras         10 non-null     object\n",
      " 5   Adresa_mail  10 non-null     object\n",
      "dtypes: int64(1), object(5)\n",
      "memory usage: 608.0+ bytes\n"
     ]
    }
   ],
   "source": [
    "date_clienti.info()"
   ]
  },
  {
   "cell_type": "code",
   "execution_count": 21,
   "id": "749929fd-39e0-4430-8555-715c38276c81",
   "metadata": {},
   "outputs": [
    {
     "name": "stdout",
     "output_type": "stream",
     "text": [
      "<class 'pandas.core.frame.DataFrame'>\n",
      "RangeIndex: 10 entries, 0 to 9\n",
      "Data columns (total 5 columns):\n",
      " #   Column       Non-Null Count  Dtype \n",
      "---  ------       --------------  ----- \n",
      " 0   Id_client    10 non-null     int64 \n",
      " 1   Nume         10 non-null     object\n",
      " 2   Prenume      10 non-null     object\n",
      " 3   Gen          10 non-null     object\n",
      " 4   Adresa_mail  10 non-null     object\n",
      "dtypes: int64(1), object(4)\n",
      "memory usage: 528.0+ bytes\n"
     ]
    }
   ],
   "source": [
    "#Stergere coloana Oras din tabela clienti\n",
    "date_clienti = date_clienti.drop(['Oras'], axis = 1)\n",
    "date_clienti.info()"
   ]
  },
  {
   "cell_type": "code",
   "execution_count": 22,
   "id": "a35b6190-5a66-4e46-bb82-2e8e01ed81bc",
   "metadata": {},
   "outputs": [
    {
     "data": {
      "text/html": [
       "<div>\n",
       "<style scoped>\n",
       "    .dataframe tbody tr th:only-of-type {\n",
       "        vertical-align: middle;\n",
       "    }\n",
       "\n",
       "    .dataframe tbody tr th {\n",
       "        vertical-align: top;\n",
       "    }\n",
       "\n",
       "    .dataframe thead th {\n",
       "        text-align: right;\n",
       "    }\n",
       "</style>\n",
       "<table border=\"1\" class=\"dataframe\">\n",
       "  <thead>\n",
       "    <tr style=\"text-align: right;\">\n",
       "      <th></th>\n",
       "      <th>Id_comanda</th>\n",
       "      <th>Cantitate</th>\n",
       "      <th>Pret_unitar</th>\n",
       "      <th>Id_client</th>\n",
       "      <th>Pret_total</th>\n",
       "    </tr>\n",
       "  </thead>\n",
       "  <tbody>\n",
       "    <tr>\n",
       "      <th>count</th>\n",
       "      <td>203.000000</td>\n",
       "      <td>203.000000</td>\n",
       "      <td>203.000000</td>\n",
       "      <td>203.000000</td>\n",
       "      <td>203.000000</td>\n",
       "    </tr>\n",
       "    <tr>\n",
       "      <th>mean</th>\n",
       "      <td>103.753695</td>\n",
       "      <td>62.768473</td>\n",
       "      <td>2.203596</td>\n",
       "      <td>5.477833</td>\n",
       "      <td>135.806305</td>\n",
       "    </tr>\n",
       "    <tr>\n",
       "      <th>std</th>\n",
       "      <td>59.120187</td>\n",
       "      <td>45.632416</td>\n",
       "      <td>0.605366</td>\n",
       "      <td>2.865509</td>\n",
       "      <td>107.771095</td>\n",
       "    </tr>\n",
       "    <tr>\n",
       "      <th>min</th>\n",
       "      <td>1.000000</td>\n",
       "      <td>20.000000</td>\n",
       "      <td>1.350000</td>\n",
       "      <td>1.000000</td>\n",
       "      <td>35.280000</td>\n",
       "    </tr>\n",
       "    <tr>\n",
       "      <th>25%</th>\n",
       "      <td>53.500000</td>\n",
       "      <td>32.000000</td>\n",
       "      <td>1.770000</td>\n",
       "      <td>3.000000</td>\n",
       "      <td>73.290000</td>\n",
       "    </tr>\n",
       "    <tr>\n",
       "      <th>50%</th>\n",
       "      <td>104.000000</td>\n",
       "      <td>48.000000</td>\n",
       "      <td>1.870000</td>\n",
       "      <td>5.000000</td>\n",
       "      <td>104.160000</td>\n",
       "    </tr>\n",
       "    <tr>\n",
       "      <th>75%</th>\n",
       "      <td>154.500000</td>\n",
       "      <td>77.000000</td>\n",
       "      <td>2.840000</td>\n",
       "      <td>8.000000</td>\n",
       "      <td>159.170000</td>\n",
       "    </tr>\n",
       "    <tr>\n",
       "      <th>max</th>\n",
       "      <td>205.000000</td>\n",
       "      <td>306.000000</td>\n",
       "      <td>3.490000</td>\n",
       "      <td>10.000000</td>\n",
       "      <td>817.920000</td>\n",
       "    </tr>\n",
       "  </tbody>\n",
       "</table>\n",
       "</div>"
      ],
      "text/plain": [
       "       Id_comanda   Cantitate  Pret_unitar   Id_client  Pret_total\n",
       "count  203.000000  203.000000   203.000000  203.000000  203.000000\n",
       "mean   103.753695   62.768473     2.203596    5.477833  135.806305\n",
       "std     59.120187   45.632416     0.605366    2.865509  107.771095\n",
       "min      1.000000   20.000000     1.350000    1.000000   35.280000\n",
       "25%     53.500000   32.000000     1.770000    3.000000   73.290000\n",
       "50%    104.000000   48.000000     1.870000    5.000000  104.160000\n",
       "75%    154.500000   77.000000     2.840000    8.000000  159.170000\n",
       "max    205.000000  306.000000     3.490000   10.000000  817.920000"
      ]
     },
     "execution_count": 22,
     "metadata": {},
     "output_type": "execute_result"
    }
   ],
   "source": [
    "#Crearea unei coloane noi\n",
    "date_comenzi['Pret_total'] = date_comenzi.Cantitate * date_comenzi.Pret_unitar\n",
    "date_comenzi.describe()"
   ]
  },
  {
   "cell_type": "code",
   "execution_count": 23,
   "id": "a36d06fb-d420-4c6f-b06a-6212239b56ef",
   "metadata": {},
   "outputs": [
    {
     "name": "stdout",
     "output_type": "stream",
     "text": [
      "Valorea totala a vanzarilor:  27568.68\n",
      "Valorea maxima a unei vanzari:  817.92\n"
     ]
    }
   ],
   "source": [
    "print(\"Valorea totala a vanzarilor: \", date_comenzi['Pret_total'].sum())\n",
    "print(\"Valorea maxima a unei vanzari: \", date_comenzi['Pret_total'].max())"
   ]
  },
  {
   "cell_type": "code",
   "execution_count": 24,
   "id": "71846860-e590-4200-b900-47776a287bb0",
   "metadata": {},
   "outputs": [
    {
     "name": "stdout",
     "output_type": "stream",
     "text": [
      "Suma vanzarilor pentru fiecare categorie de produse\n",
      "Categorie\n",
      "Bars         9216.51\n",
      "Cookies     13397.01\n",
      "Crackers     2973.48\n",
      "Snacks       1981.68\n",
      "Name: Pret_total, dtype: float64\n",
      "Suma vanzarilor pentru fiecare produs\n",
      "Produs\n",
      "Arrowroot         3976.32\n",
      "Banana             179.33\n",
      "Bran              2374.90\n",
      "Carrot            6662.28\n",
      "Chocolate Chip    3229.49\n",
      "Oatmeal Raisin    6191.20\n",
      "Potato Chips      1461.93\n",
      "Pretzels           519.75\n",
      "Whole Wheat       2973.48\n",
      "Name: Pret_total, dtype: float64\n"
     ]
    }
   ],
   "source": [
    "print('Suma vanzarilor pentru fiecare categorie de produse')\n",
    "print(date_comenzi.groupby('Categorie')['Pret_total'].sum())\n",
    "\n",
    "print('Suma vanzarilor pentru fiecare produs')\n",
    "print(date_comenzi.groupby('Produs')['Pret_total'].sum())"
   ]
  },
  {
   "cell_type": "code",
   "execution_count": 26,
   "id": "d6397fc0-b72f-4e26-9561-cef5686c982d",
   "metadata": {},
   "outputs": [],
   "source": [
    "date_comenzi['Data_comenzii'] = date_comenzi['Data_comenzii'].apply(dateutil.parser.parse, dayfirst=False)\n"
   ]
  },
  {
   "cell_type": "code",
   "execution_count": 27,
   "id": "d9f94d72-158d-4db5-b625-4e9511ba40bb",
   "metadata": {},
   "outputs": [
    {
     "name": "stdout",
     "output_type": "stream",
     "text": [
      "Id_comanda                int64\n",
      "Data_comenzii    datetime64[ns]\n",
      "Oras                     object\n",
      "Categorie                object\n",
      "Produs                   object\n",
      "Cantitate                 int64\n",
      "Pret_unitar             float64\n",
      "Id_client                 int64\n",
      "Pret_total              float64\n",
      "dtype: object\n"
     ]
    }
   ],
   "source": [
    "print(date_comenzi.dtypes)"
   ]
  },
  {
   "cell_type": "code",
   "execution_count": 29,
   "id": "7d6063b8-02ca-4a63-8871-fc781d33823f",
   "metadata": {},
   "outputs": [
    {
     "name": "stdout",
     "output_type": "stream",
     "text": [
      "     Id_comanda Data_comenzii         Oras Categorie          Produs  \\\n",
      "0             1    2020-01-01       Boston      Bars          Carrot   \n",
      "1            11    2020-01-31       Boston   Cookies       Arrowroot   \n",
      "2            31    2020-04-01  Los Angeles      Bars          Carrot   \n",
      "3            41    2020-05-01    San Diego   Cookies  Chocolate Chip   \n",
      "4            51    2020-05-31       Boston  Crackers     Whole Wheat   \n",
      "..          ...           ...          ...       ...             ...   \n",
      "198         160    2021-04-22    San Diego   Cookies  Chocolate Chip   \n",
      "199         170    2021-05-22  Los Angeles   Cookies  Chocolate Chip   \n",
      "200         180    2021-06-21    San Diego      Bars          Carrot   \n",
      "201         190    2021-07-21       Boston   Cookies  Chocolate Chip   \n",
      "202         200    2021-08-20     New York      Bars            Bran   \n",
      "\n",
      "     Cantitate  Pret_unitar  Id_client  Pret_total    Nume    Prenume Gen  \n",
      "0           33         1.77          1       58.41  Tataru     Olivia   F  \n",
      "1           36         2.18          1       78.48  Tataru     Olivia   F  \n",
      "2           58         1.77          1      102.66  Tataru     Olivia   F  \n",
      "3           63         1.87          1      117.81  Tataru     Olivia   F  \n",
      "4           33         3.49          1      115.17  Tataru     Olivia   F  \n",
      "..         ...          ...        ...         ...     ...        ...  ..  \n",
      "198         67         1.87         10      125.29  Lavric  Georgiana   F  \n",
      "199         43         1.87         10       80.41  Lavric  Georgiana   F  \n",
      "200         41         1.77         10       72.57  Lavric  Georgiana   F  \n",
      "201         32         1.87         10       59.84  Lavric  Georgiana   F  \n",
      "202         39         1.87         10       72.93  Lavric  Georgiana   F  \n",
      "\n",
      "[203 rows x 12 columns]\n"
     ]
    }
   ],
   "source": [
    "date_comenzi_clienti = pd.merge(date_comenzi, date_clienti[['Id_client', 'Nume', 'Prenume', 'Gen']], on='Id_client')\n",
    "print(date_comenzi_clienti)"
   ]
  },
  {
   "cell_type": "code",
   "execution_count": null,
   "id": "19feb6ee-422d-48a7-b81d-9b950b0433f2",
   "metadata": {},
   "outputs": [],
   "source": []
  }
 ],
 "metadata": {
  "kernelspec": {
   "display_name": "Python 3 (ipykernel)",
   "language": "python",
   "name": "python3"
  },
  "language_info": {
   "codemirror_mode": {
    "name": "ipython",
    "version": 3
   },
   "file_extension": ".py",
   "mimetype": "text/x-python",
   "name": "python",
   "nbconvert_exporter": "python",
   "pygments_lexer": "ipython3",
   "version": "3.7.12"
  }
 },
 "nbformat": 4,
 "nbformat_minor": 5
}
